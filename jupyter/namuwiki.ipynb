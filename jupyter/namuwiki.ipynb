{
 "cells": [
  {
   "cell_type": "code",
   "execution_count": 1,
   "metadata": {
    "collapsed": true
   },
   "outputs": [],
   "source": [
    "import json\n",
    "\n",
    "database_fname = '../data/namuwiki_170327.json'\n",
    "with open(database_fname, encoding='utf-8') as f:\n",
    "    namuwiki = json.load(f)\n"
   ]
  },
  {
   "cell_type": "markdown",
   "metadata": {},
   "source": [
    "JSON 형식으로 배포되는 나무 위키 데이터베이스는 list of dict 형식입니다. 170327일자 데이터의 경우에는 931,029 개의 entity가 있습니다. dict는 다음과 같이 구성되어 있습니다. \n",
    "\n",
    "    >>> namuwiki[i].keys()\n",
    "    \n",
    "    dict_keys(['title', 'contributors', 'namespace', 'text'])\n",
    "\n",
    "namuwiki에는 하나의 문서, namuwiki[i].get('text', '')를 처리하는 다음의 함수를 제공합니다. \n",
    "    \n",
    "1. get_links(doc): str 형식의 doc 문서에 걸려있는 모든 다른 **엔티티**에 대한 링크를 추출합니다. \n",
    "2. get_hierarchy(doc): str 형식의 doc 문서에 걸려있는 링크 중에서, [상위 문서, 하위 문서, 관련 문서, 분류] 링크를 추출합니다.\n",
    "3. get_text(doc): str 형식의 doc에서 텍스트 부분을 가지고 옵니다. \n",
    "\n",
    "namuwiki에는 모든 문서에 대한 다음의 함수를 제공합니다. \n",
    "\n",
    "1. to_text(namuwiki, directory): directory에 각각의 entity에 대한 텍스트 파일과 각 파일의 인덱스를 저장합니다.각 폴더마다 max_num_files (default, 10000)개의 파일을 저장합니다. empty str은 저장하지 않습니다. \n",
    "1. to_graph(namuwiki): 링크를 바탕으로 entity graph를 return 합니다. dict type 입니다.\n",
    "\n",
    "    "
   ]
  },
  {
   "cell_type": "code",
   "execution_count": 2,
   "metadata": {
    "collapsed": false
   },
   "outputs": [
    {
     "data": {
      "text/plain": [
       "931029"
      ]
     },
     "execution_count": 2,
     "metadata": {},
     "output_type": "execute_result"
    }
   ],
   "source": [
    "len(namuwiki)"
   ]
  },
  {
   "cell_type": "code",
   "execution_count": 3,
   "metadata": {
    "collapsed": false
   },
   "outputs": [
    {
     "name": "stdout",
     "output_type": "stream",
     "text": [
      "done"
     ]
    }
   ],
   "source": [
    "import sys\n",
    "sys.path.append('../wiki')\n",
    "\n",
    "from namuwiki import to_text, to_graph\n",
    "directory = '../data/namuwiki/'\n",
    "\n",
    "to_text(namuwiki, directory, debug=False)"
   ]
  },
  {
   "cell_type": "code",
   "execution_count": 4,
   "metadata": {
    "collapsed": false
   },
   "outputs": [
    {
     "name": "stdout",
     "output_type": "stream",
     "text": [
      "  ... to graph (930000 in 931029)\n",
      "done"
     ]
    }
   ],
   "source": [
    "graph = to_graph(namuwiki)"
   ]
  },
  {
   "cell_type": "markdown",
   "metadata": {},
   "source": [
    "to_graph의 return은 dict[str] = set(str)입니다. "
   ]
  },
  {
   "cell_type": "code",
   "execution_count": 7,
   "metadata": {
    "collapsed": false
   },
   "outputs": [
    {
     "data": {
      "text/plain": [
       "{'YMC엔터테인먼트 소속 아티스트', '걸그룹', '프로듀스 101', '프로젝트 그룹', '한국 아이돌'}"
      ]
     },
     "execution_count": 7,
     "metadata": {},
     "output_type": "execute_result"
    }
   ],
   "source": [
    "graph['I.O.I']"
   ]
  },
  {
   "cell_type": "markdown",
   "metadata": {},
   "source": [
    "JSON 형식으로 저장할 때에는 values를 list 형식으로 바꿔주면 됩니다. "
   ]
  },
  {
   "cell_type": "code",
   "execution_count": 8,
   "metadata": {
    "collapsed": false
   },
   "outputs": [],
   "source": [
    "with open('../data/namuwiki/graph.json', 'w', encoding='utf=8') as f:\n",
    "    json.dump({word:list(links) for word, links in graph.items()}, f, ensure_ascii=False)"
   ]
  },
  {
   "cell_type": "markdown",
   "metadata": {},
   "source": [
    "Indexer는 index.txt 파일과 redirect.txt 파일을 입력받아 해당 단어의 텍스트 파일의 위치, 해당 단어가 포함된 다른 단어, redict가 될 경우, redirect 되는 결과를 출력합니다. "
   ]
  },
  {
   "cell_type": "code",
   "execution_count": 30,
   "metadata": {
    "collapsed": false
   },
   "outputs": [],
   "source": [
    "from utils import Indexer\n",
    "\n",
    "indexer = Indexer('../data/namuwiki/index.txt', '../data/namuwiki/redirect.txt')"
   ]
  },
  {
   "cell_type": "code",
   "execution_count": 31,
   "metadata": {
    "collapsed": false
   },
   "outputs": [
    {
     "data": {
      "text/plain": [
       "{'redirect': 'I.O.I',\n",
       " 'similars': {'아이오아이 유닛_로고.png',\n",
       "  '아이오아이(I.O.I) 1st 미니앨범 2차 티저이미지 (1).jpg',\n",
       "  '아이오아이(I.O.I) 1st 미니앨범 2차 티저이미지 (2).jpg',\n",
       "  '아이오아이(I.O.I) 1st 미니앨범 첫 번째 티저이미지.jpg',\n",
       "  '아이오아이_로고.png'}}"
      ]
     },
     "execution_count": 31,
     "metadata": {},
     "output_type": "execute_result"
    }
   ],
   "source": [
    "indexer('아이오아이')"
   ]
  },
  {
   "cell_type": "code",
   "execution_count": 32,
   "metadata": {
    "collapsed": false
   },
   "outputs": [
    {
     "data": {
      "text/plain": [
       "{'match': '35/351816',\n",
       " 'similars': {'I.O.I 갤러리',\n",
       "  'I.O.I 노래',\n",
       "  'I.O.I/광고 및 화보',\n",
       "  'I.O.I/논란',\n",
       "  'I.O.I/유닛',\n",
       "  'I.O.I/음반',\n",
       "  'I.O.I/활동',\n",
       "  'I.O.I의 괴담시티',\n",
       "  '결경/I.O.I',\n",
       "  '김도연(1999)/I.O.I',\n",
       "  '김소혜(1999)/I.O.I',\n",
       "  '김청하/I.O.I',\n",
       "  '나영(프리스틴)/I.O.I',\n",
       "  '랜선친구 I.O.I',\n",
       "  '미나(구구단)/I.O.I',\n",
       "  '세정(구구단)/I.O.I',\n",
       "  '소미/I.O.I',\n",
       "  '스탠바이 I.O.I',\n",
       "  '아이오아이(I.O.I) 1st 미니앨범 2차 티저이미지 (1).jpg',\n",
       "  '아이오아이(I.O.I) 1st 미니앨범 2차 티저이미지 (2).jpg',\n",
       "  '아이오아이(I.O.I) 1st 미니앨범 첫 번째 티저이미지.jpg',\n",
       "  '연정(우주소녀)/I.O.I',\n",
       "  '정채연/I.O.I',\n",
       "  '최유정/I.O.I',\n",
       "  '타임슬립 - I.O.I'}}"
      ]
     },
     "execution_count": 32,
     "metadata": {},
     "output_type": "execute_result"
    }
   ],
   "source": [
    "indexer('I.O.I')"
   ]
  },
  {
   "cell_type": "code",
   "execution_count": 33,
   "metadata": {
    "collapsed": false
   },
   "outputs": [
    {
     "data": {
      "text/plain": [
       "{'match': '53/533338'}"
      ]
     },
     "execution_count": 33,
     "metadata": {},
     "output_type": "execute_result"
    }
   ],
   "source": [
    "indexer('타임슬립 - I.O.I')"
   ]
  },
  {
   "cell_type": "code",
   "execution_count": null,
   "metadata": {
    "collapsed": true
   },
   "outputs": [],
   "source": []
  }
 ],
 "metadata": {
  "anaconda-cloud": {},
  "kernelspec": {
   "display_name": "Python [conda env:gensim_py3]",
   "language": "python",
   "name": "conda-env-gensim_py3-py"
  },
  "language_info": {
   "codemirror_mode": {
    "name": "ipython",
    "version": 3
   },
   "file_extension": ".py",
   "mimetype": "text/x-python",
   "name": "python",
   "nbconvert_exporter": "python",
   "pygments_lexer": "ipython3",
   "version": "3.5.2"
  }
 },
 "nbformat": 4,
 "nbformat_minor": 1
}
