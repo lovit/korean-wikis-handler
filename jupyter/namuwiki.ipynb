{
 "cells": [
  {
   "cell_type": "code",
   "execution_count": 1,
   "metadata": {
    "collapsed": true
   },
   "outputs": [],
   "source": [
    "import json\n",
    "\n",
    "database_fname = '../data/namuwiki_170327.json'\n",
    "with open(database_fname, encoding='utf-8') as f:\n",
    "    namuwiki = json.load(f)\n"
   ]
  },
  {
   "cell_type": "markdown",
   "metadata": {},
   "source": [
    "JSON 형식으로 배포되는 나무 위키 데이터베이스는 list of dict 형식입니다. 170327일자 데이터의 경우에는 931,029 개의 entity가 있습니다. dict는 다음과 같이 구성되어 있습니다. \n",
    "\n",
    "    >>> namuwiki[i].keys()\n",
    "    \n",
    "    dict_keys(['title', 'contributors', 'namespace', 'text'])\n",
    "\n",
    "namuwiki에는 하나의 문서, namuwiki[i].get('text', '')를 처리하는 다음의 함수를 제공합니다. \n",
    "    \n",
    "1. get_links(doc): str 형식의 doc 문서에 걸려있는 모든 다른 **엔티티**에 대한 링크를 추출합니다. \n",
    "2. get_hierarchy(doc): str 형식의 doc 문서에 걸려있는 링크 중에서, [상위 문서, 하위 문서, 관련 문서, 분류] 링크를 추출합니다.\n",
    "3. get_text(doc): str 형식의 doc에서 텍스트 부분을 가지고 옵니다. \n",
    "\n",
    "namuwiki에는 모든 문서에 대한 다음의 함수를 제공합니다. \n",
    "\n",
    "1. to_text(namuwiki, directory): directory에 각각의 entity에 대한 텍스트 파일과 각 파일의 인덱스를 저장합니다.각 폴더마다 max_num_files (default, 10000)개의 파일을 저장합니다. empty str은 저장하지 않습니다. \n",
    "1. to_graph(namuwiki): 링크를 바탕으로 entity graph를 return 합니다. dict type 입니다.\n",
    "\n",
    "    "
   ]
  },
  {
   "cell_type": "code",
   "execution_count": 2,
   "metadata": {
    "collapsed": false
   },
   "outputs": [
    {
     "data": {
      "text/plain": [
       "931029"
      ]
     },
     "execution_count": 2,
     "metadata": {},
     "output_type": "execute_result"
    }
   ],
   "source": [
    "len(namuwiki)"
   ]
  },
  {
   "cell_type": "code",
   "execution_count": 3,
   "metadata": {
    "collapsed": false
   },
   "outputs": [
    {
     "name": "stdout",
     "output_type": "stream",
     "text": [
      "done"
     ]
    }
   ],
   "source": [
    "import sys\n",
    "sys.path.append('../wiki')\n",
    "\n",
    "from namuwiki import to_text, to_graph\n",
    "directory = '../data/namuwiki/'\n",
    "\n",
    "to_text(namuwiki, directory, debug=False)"
   ]
  },
  {
   "cell_type": "code",
   "execution_count": 4,
   "metadata": {
    "collapsed": false
   },
   "outputs": [
    {
     "name": "stdout",
     "output_type": "stream",
     "text": [
      "  ... to graph (930000 in 931029)\n",
      "done"
     ]
    }
   ],
   "source": [
    "graph = to_graph(namuwiki)"
   ]
  },
  {
   "cell_type": "markdown",
   "metadata": {},
   "source": [
    "to_graph의 return은 dict[str] = set(str)입니다. "
   ]
  },
  {
   "cell_type": "code",
   "execution_count": 46,
   "metadata": {
    "collapsed": false
   },
   "outputs": [
    {
     "data": {
      "text/plain": [
       "{'1월 1일',\n",
       " '1월 31일',\n",
       " '2008 베이징 올림픽',\n",
       " '2016년',\n",
       " '2017년',\n",
       " '2041년',\n",
       " '4월 2일',\n",
       " '5월 5일',\n",
       " 'AOA(아이돌)',\n",
       " 'DIA(아이돌)',\n",
       " 'Daum',\n",
       " 'I.O.I',\n",
       " 'I.O.I 갤러리',\n",
       " 'I.O.I 마이너 갤러리',\n",
       " 'I.O.I 유닛',\n",
       " 'I.O.I/광고 및 화보',\n",
       " 'I.O.I/논란',\n",
       " 'I.O.I/유닛',\n",
       " 'I.O.I/음반',\n",
       " 'I.O.I/활동',\n",
       " 'JYP엔터테인먼트',\n",
       " 'KBS Cool FM',\n",
       " 'KBS 뉴스광장',\n",
       " 'MBK엔터테인먼트',\n",
       " 'PICK ME',\n",
       " 'SBS 파워FM',\n",
       " 'SHOW CHAMPION',\n",
       " 'V LIVE',\n",
       " 'YG엔터테인먼트',\n",
       " 'YMC엔터테인먼트',\n",
       " 'YMC엔터테인먼트 소속 아티스트',\n",
       " '가수/한국',\n",
       " '가족같은',\n",
       " '개그콘서트',\n",
       " '걸그룹',\n",
       " '걸그룹/목록',\n",
       " '결경',\n",
       " '고려대학교',\n",
       " '골든디스크 시상식',\n",
       " '구구단(아이돌)',\n",
       " '김대성(코미디언)',\n",
       " '김도연(1999)',\n",
       " '김세정',\n",
       " '김세정 갤러리',\n",
       " '김소혜 갤러리',\n",
       " '김소혜(1999)',\n",
       " '김청하',\n",
       " '나영(프리스틴)',\n",
       " '대북방송',\n",
       " '더 이상의 자세한 설명은 생략한다',\n",
       " '디시인사이드',\n",
       " '로엔 엔터테인먼트',\n",
       " '리브레 위키',\n",
       " '멜론(음원사이트)',\n",
       " '문희준',\n",
       " '미나(구구단)',\n",
       " '박재정(가수)',\n",
       " '박진영',\n",
       " '블랙핑크',\n",
       " '서울가요대상',\n",
       " '세정(구구단)',\n",
       " '소미',\n",
       " '슈퍼스타K5',\n",
       " '스타쉽엔터테인먼트',\n",
       " '스탠바이 I.O.I',\n",
       " '스포일러',\n",
       " '신보라',\n",
       " '아킨펜와',\n",
       " '엠 카운트다운',\n",
       " '엠넷 아시안 뮤직 어워드',\n",
       " '연정(우주소녀)',\n",
       " '우주소녀',\n",
       " '유니세프',\n",
       " '인기가요',\n",
       " '정채연',\n",
       " '젤리피쉬 엔터테인먼트',\n",
       " '최유정',\n",
       " '최유정 갤러리',\n",
       " '칠석',\n",
       " '틀',\n",
       " '판타지오',\n",
       " '프로듀스 101',\n",
       " '프로듀스 101 갤러리',\n",
       " '프로젝트 그룹',\n",
       " '플레디스',\n",
       " '한국 아이돌',\n",
       " '한국 아이돌/역사',\n",
       " '한국어 위키백과'}"
      ]
     },
     "execution_count": 46,
     "metadata": {},
     "output_type": "execute_result"
    }
   ],
   "source": [
    "graph['I.O.I']"
   ]
  },
  {
   "cell_type": "markdown",
   "metadata": {},
   "source": [
    "JSON 형식으로 저장할 때에는 values를 list 형식으로 바꿔주면 됩니다. "
   ]
  },
  {
   "cell_type": "code",
   "execution_count": 8,
   "metadata": {
    "collapsed": false
   },
   "outputs": [],
   "source": [
    "with open('../data/namuwiki/graph.json', 'w', encoding='utf=8') as f:\n",
    "    json.dump({word:list(links) for word, links in graph.items()}, f, ensure_ascii=False)"
   ]
  },
  {
   "cell_type": "markdown",
   "metadata": {},
   "source": [
    "Indexer는 index.txt 파일과 redirect.txt 파일을 입력받아 해당 단어의 텍스트 파일의 위치, 해당 단어가 포함된 다른 단어, redict가 될 경우, redirect 되는 결과를 출력합니다. "
   ]
  },
  {
   "cell_type": "code",
   "execution_count": 30,
   "metadata": {
    "collapsed": false
   },
   "outputs": [],
   "source": [
    "from utils import Indexer\n",
    "\n",
    "indexer = Indexer('../data/namuwiki/index.txt', '../data/namuwiki/redirect.txt')"
   ]
  },
  {
   "cell_type": "code",
   "execution_count": 31,
   "metadata": {
    "collapsed": false
   },
   "outputs": [
    {
     "data": {
      "text/plain": [
       "{'redirect': 'I.O.I',\n",
       " 'similars': {'아이오아이 유닛_로고.png',\n",
       "  '아이오아이(I.O.I) 1st 미니앨범 2차 티저이미지 (1).jpg',\n",
       "  '아이오아이(I.O.I) 1st 미니앨범 2차 티저이미지 (2).jpg',\n",
       "  '아이오아이(I.O.I) 1st 미니앨범 첫 번째 티저이미지.jpg',\n",
       "  '아이오아이_로고.png'}}"
      ]
     },
     "execution_count": 31,
     "metadata": {},
     "output_type": "execute_result"
    }
   ],
   "source": [
    "indexer('아이오아이')"
   ]
  },
  {
   "cell_type": "code",
   "execution_count": 32,
   "metadata": {
    "collapsed": false
   },
   "outputs": [
    {
     "data": {
      "text/plain": [
       "{'match': '35/351816',\n",
       " 'similars': {'I.O.I 갤러리',\n",
       "  'I.O.I 노래',\n",
       "  'I.O.I/광고 및 화보',\n",
       "  'I.O.I/논란',\n",
       "  'I.O.I/유닛',\n",
       "  'I.O.I/음반',\n",
       "  'I.O.I/활동',\n",
       "  'I.O.I의 괴담시티',\n",
       "  '결경/I.O.I',\n",
       "  '김도연(1999)/I.O.I',\n",
       "  '김소혜(1999)/I.O.I',\n",
       "  '김청하/I.O.I',\n",
       "  '나영(프리스틴)/I.O.I',\n",
       "  '랜선친구 I.O.I',\n",
       "  '미나(구구단)/I.O.I',\n",
       "  '세정(구구단)/I.O.I',\n",
       "  '소미/I.O.I',\n",
       "  '스탠바이 I.O.I',\n",
       "  '아이오아이(I.O.I) 1st 미니앨범 2차 티저이미지 (1).jpg',\n",
       "  '아이오아이(I.O.I) 1st 미니앨범 2차 티저이미지 (2).jpg',\n",
       "  '아이오아이(I.O.I) 1st 미니앨범 첫 번째 티저이미지.jpg',\n",
       "  '연정(우주소녀)/I.O.I',\n",
       "  '정채연/I.O.I',\n",
       "  '최유정/I.O.I',\n",
       "  '타임슬립 - I.O.I'}}"
      ]
     },
     "execution_count": 32,
     "metadata": {},
     "output_type": "execute_result"
    }
   ],
   "source": [
    "indexer('I.O.I')"
   ]
  },
  {
   "cell_type": "code",
   "execution_count": 33,
   "metadata": {
    "collapsed": false
   },
   "outputs": [
    {
     "data": {
      "text/plain": [
       "{'match': '53/533338'}"
      ]
     },
     "execution_count": 33,
     "metadata": {},
     "output_type": "execute_result"
    }
   ],
   "source": [
    "indexer('타임슬립 - I.O.I')"
   ]
  },
  {
   "cell_type": "code",
   "execution_count": 43,
   "metadata": {
    "collapsed": false
   },
   "outputs": [],
   "source": [
    "import re\n",
    "url_pattern = re.compile('http[s]?://[\\w./?=#&%]+')\n",
    "link_pattern = re.compile('\\[\\[[\\w()/.:|\\s]+\\]\\]')\n",
    "url_pattern = re.compile('http[s]?://[\\w./?=#&%]+')\n",
    "\n",
    "def get_links(doc):\n",
    "    links = {link[2:].split('|')[0].replace(']]', '') for link in link_pattern.findall(doc)}\n",
    "    links = {link for link in links if not (url_pattern.match(link))}    \n",
    "    links = {link.strip().replace('분류:','') for link in links}\n",
    "    return links\n",
    "\n",
    "def to_graph(namuwiki, verbose=True):\n",
    "    import sys\n",
    "    graph = {}\n",
    "    \n",
    "    for i, entity in enumerate(namuwiki):\n",
    "        if verbose and (i+1) % 10000 == 0:\n",
    "            sys.stdout.write('\\r  ... to graph (%d in %d)' % (i+1, len(namuwiki)))\n",
    "        title = entity.get('title', '')\n",
    "        if not title: continue\n",
    "        \n",
    "        title_lower = title.lower()\n",
    "        if '.jpg' in title_lower or '.gif' in title_lower or '.png' in title_lower:\n",
    "            continue\n",
    "        \n",
    "        links = get_links(entity.get('text', ''))\n",
    "        if links:\n",
    "            linked_entities = graph.get(title, set())\n",
    "            linked_entities.update(links)\n",
    "            graph[title] = linked_entities\n",
    "    if verbose:\n",
    "        sys.stdout.write('\\ndone')\n",
    "    return graph"
   ]
  },
  {
   "cell_type": "code",
   "execution_count": 36,
   "metadata": {
    "collapsed": false
   },
   "outputs": [
    {
     "name": "stdout",
     "output_type": "stream",
     "text": [
      "486231\n",
      "486245\n",
      "486248\n"
     ]
    }
   ],
   "source": [
    "for i, page in enumerate(namuwiki):\n",
    "    if page['title'] == 'I.O.I':\n",
    "        print(i)"
   ]
  },
  {
   "cell_type": "code",
   "execution_count": 44,
   "metadata": {
    "collapsed": false,
    "scrolled": false
   },
   "outputs": [
    {
     "name": "stdout",
     "output_type": "stream",
     "text": [
      "  ... to graph (930000 in 931029)\n",
      "done"
     ]
    }
   ],
   "source": [
    "graph = to_graph(namuwiki)"
   ]
  },
  {
   "cell_type": "code",
   "execution_count": 45,
   "metadata": {
    "collapsed": false
   },
   "outputs": [
    {
     "data": {
      "text/plain": [
       "{'1월 1일',\n",
       " '1월 31일',\n",
       " '2008 베이징 올림픽',\n",
       " '2016년',\n",
       " '2017년',\n",
       " '2041년',\n",
       " '4월 2일',\n",
       " '5월 5일',\n",
       " 'AOA(아이돌)',\n",
       " 'DIA(아이돌)',\n",
       " 'Daum',\n",
       " 'I.O.I',\n",
       " 'I.O.I 갤러리',\n",
       " 'I.O.I 마이너 갤러리',\n",
       " 'I.O.I 유닛',\n",
       " 'I.O.I/광고 및 화보',\n",
       " 'I.O.I/논란',\n",
       " 'I.O.I/유닛',\n",
       " 'I.O.I/음반',\n",
       " 'I.O.I/활동',\n",
       " 'JYP엔터테인먼트',\n",
       " 'KBS Cool FM',\n",
       " 'KBS 뉴스광장',\n",
       " 'MBK엔터테인먼트',\n",
       " 'PICK ME',\n",
       " 'SBS 파워FM',\n",
       " 'SHOW CHAMPION',\n",
       " 'V LIVE',\n",
       " 'YG엔터테인먼트',\n",
       " 'YMC엔터테인먼트',\n",
       " 'YMC엔터테인먼트 소속 아티스트',\n",
       " '가수/한국',\n",
       " '가족같은',\n",
       " '개그콘서트',\n",
       " '걸그룹',\n",
       " '걸그룹/목록',\n",
       " '결경',\n",
       " '고려대학교',\n",
       " '골든디스크 시상식',\n",
       " '구구단(아이돌)',\n",
       " '김대성(코미디언)',\n",
       " '김도연(1999)',\n",
       " '김세정',\n",
       " '김세정 갤러리',\n",
       " '김소혜 갤러리',\n",
       " '김소혜(1999)',\n",
       " '김청하',\n",
       " '나영(프리스틴)',\n",
       " '대북방송',\n",
       " '더 이상의 자세한 설명은 생략한다',\n",
       " '디시인사이드',\n",
       " '로엔 엔터테인먼트',\n",
       " '리브레 위키',\n",
       " '멜론(음원사이트)',\n",
       " '문희준',\n",
       " '미나(구구단)',\n",
       " '박재정(가수)',\n",
       " '박진영',\n",
       " '블랙핑크',\n",
       " '서울가요대상',\n",
       " '세정(구구단)',\n",
       " '소미',\n",
       " '슈퍼스타K5',\n",
       " '스타쉽엔터테인먼트',\n",
       " '스탠바이 I.O.I',\n",
       " '스포일러',\n",
       " '신보라',\n",
       " '아킨펜와',\n",
       " '엠 카운트다운',\n",
       " '엠넷 아시안 뮤직 어워드',\n",
       " '연정(우주소녀)',\n",
       " '우주소녀',\n",
       " '유니세프',\n",
       " '인기가요',\n",
       " '정채연',\n",
       " '젤리피쉬 엔터테인먼트',\n",
       " '최유정',\n",
       " '최유정 갤러리',\n",
       " '칠석',\n",
       " '틀',\n",
       " '판타지오',\n",
       " '프로듀스 101',\n",
       " '프로듀스 101 갤러리',\n",
       " '프로젝트 그룹',\n",
       " '플레디스',\n",
       " '한국 아이돌',\n",
       " '한국 아이돌/역사',\n",
       " '한국어 위키백과'}"
      ]
     },
     "execution_count": 45,
     "metadata": {},
     "output_type": "execute_result"
    }
   ],
   "source": [
    "graph['I.O.I']"
   ]
  },
  {
   "cell_type": "code",
   "execution_count": null,
   "metadata": {
    "collapsed": true
   },
   "outputs": [],
   "source": []
  }
 ],
 "metadata": {
  "anaconda-cloud": {},
  "kernelspec": {
   "display_name": "Python [conda env:gensim_py3]",
   "language": "python",
   "name": "conda-env-gensim_py3-py"
  },
  "language_info": {
   "codemirror_mode": {
    "name": "ipython",
    "version": 3
   },
   "file_extension": ".py",
   "mimetype": "text/x-python",
   "name": "python",
   "nbconvert_exporter": "python",
   "pygments_lexer": "ipython3",
   "version": "3.5.2"
  }
 },
 "nbformat": 4,
 "nbformat_minor": 1
}
